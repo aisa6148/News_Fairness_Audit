{
 "cells": [
  {
   "cell_type": "code",
   "execution_count": 17,
   "metadata": {},
   "outputs": [
    {
     "name": "stdout",
     "output_type": "stream",
     "text": [
      "Accuracy: 0.7021173203748698\n",
      "Classification Report:\n",
      "                precision    recall  f1-score   support\n",
      "\n",
      "        autos       0.73      0.49      0.58       497\n",
      "entertainment       0.68      0.27      0.38       135\n",
      "      finance       0.63      0.45      0.52       859\n",
      " foodanddrink       0.77      0.64      0.70       740\n",
      "       health       0.73      0.51      0.60       498\n",
      "         kids       0.00      0.00      0.00         6\n",
      "    lifestyle       0.53      0.44      0.48       678\n",
      "       movies       0.74      0.29      0.42       143\n",
      "        music       0.80      0.34      0.48       180\n",
      "         news       0.62      0.84      0.72      4432\n",
      "       sports       0.84      0.93      0.88      4256\n",
      "       travel       0.54      0.33      0.40       652\n",
      "           tv       0.61      0.19      0.29       230\n",
      "        video       0.41      0.08      0.14       565\n",
      "      weather       0.71      0.58      0.64       534\n",
      "\n",
      "     accuracy                           0.70     14405\n",
      "    macro avg       0.62      0.43      0.48     14405\n",
      " weighted avg       0.69      0.70      0.68     14405\n",
      "\n"
     ]
    },
    {
     "name": "stderr",
     "output_type": "stream",
     "text": [
      "/Users/aishwaryasatwani/miniforge3/envs/poprox-recsys/lib/python3.11/site-packages/sklearn/metrics/_classification.py:1531: UndefinedMetricWarning: Precision is ill-defined and being set to 0.0 in labels with no predicted samples. Use `zero_division` parameter to control this behavior.\n",
      "  _warn_prf(average, modifier, f\"{metric.capitalize()} is\", len(result))\n",
      "/Users/aishwaryasatwani/miniforge3/envs/poprox-recsys/lib/python3.11/site-packages/sklearn/metrics/_classification.py:1531: UndefinedMetricWarning: Precision is ill-defined and being set to 0.0 in labels with no predicted samples. Use `zero_division` parameter to control this behavior.\n",
      "  _warn_prf(average, modifier, f\"{metric.capitalize()} is\", len(result))\n",
      "/Users/aishwaryasatwani/miniforge3/envs/poprox-recsys/lib/python3.11/site-packages/sklearn/metrics/_classification.py:1531: UndefinedMetricWarning: Precision is ill-defined and being set to 0.0 in labels with no predicted samples. Use `zero_division` parameter to control this behavior.\n",
      "  _warn_prf(average, modifier, f\"{metric.capitalize()} is\", len(result))\n"
     ]
    }
   ],
   "source": [
    "import pandas as pd\n",
    "from sklearn.feature_extraction.text import TfidfVectorizer\n",
    "from sklearn.model_selection import train_test_split\n",
    "from sklearn.linear_model import LogisticRegression\n",
    "from sklearn.metrics import classification_report, accuracy_score\n",
    "mind_file_path = \"MIND/validation/news.tsv\"\n",
    "columns = [\"news_id\", \"category\", \"subcategory\", \"title\", \"abstract\", \"url\", \"entity\", \"subentity\"]\n",
    "mind_data = pd.read_csv(mind_file_path, sep='\\t', names=columns, encoding='utf-8')\n",
    "X = mind_data['title']\n",
    "y = mind_data['category']\n",
    "tfidf = TfidfVectorizer(stop_words='english', max_features=5000)\n",
    "X_tfidf = tfidf.fit_transform(X)\n",
    "\n",
    "X_train, X_test, y_train, y_test = train_test_split(X_tfidf, y, test_size=0.2, random_state=42)\n",
    "\n",
    "model = LogisticRegression(max_iter=1000)\n",
    "model.fit(X_train, y_train)\n",
    "y_pred = model.predict(X_test)\n",
    "\n",
    "print(\"Accuracy:\", accuracy_score(y_test, y_pred))\n",
    "print(\"Classification Report:\\n\", classification_report(y_test, y_pred))"
   ]
  },
  {
   "cell_type": "code",
   "execution_count": 19,
   "metadata": {},
   "outputs": [
    {
     "data": {
      "text/plain": [
       "0            lifestyle\n",
       "1               health\n",
       "3                 news\n",
       "7               sports\n",
       "9              weather\n",
       "12       entertainment\n",
       "13        foodanddrink\n",
       "16               autos\n",
       "23              travel\n",
       "29               video\n",
       "44                  tv\n",
       "71             finance\n",
       "82              movies\n",
       "88               music\n",
       "1607              kids\n",
       "15097       middleeast\n",
       "29381            games\n",
       "Name: category, dtype: object"
      ]
     },
     "execution_count": 19,
     "metadata": {},
     "output_type": "execute_result"
    }
   ],
   "source": [
    "y.drop_duplicates() "
   ]
  }
 ],
 "metadata": {
  "kernelspec": {
   "display_name": "poprox-recsys",
   "language": "python",
   "name": "python3"
  },
  "language_info": {
   "codemirror_mode": {
    "name": "ipython",
    "version": 3
   },
   "file_extension": ".py",
   "mimetype": "text/x-python",
   "name": "python",
   "nbconvert_exporter": "python",
   "pygments_lexer": "ipython3",
   "version": "3.11.9"
  }
 },
 "nbformat": 4,
 "nbformat_minor": 2
}
